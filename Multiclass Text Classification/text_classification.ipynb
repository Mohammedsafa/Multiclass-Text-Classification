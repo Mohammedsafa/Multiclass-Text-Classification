{
 "cells": [
  {
   "cell_type": "markdown",
   "metadata": {},
   "source": [
    "# Text Classification"
   ]
  },
  {
   "cell_type": "markdown",
   "metadata": {},
   "source": [
    "## 📖 Background\n"
   ]
  },
  {
   "cell_type": "markdown",
   "metadata": {},
   "source": [
    "## 🎯 Objective\n",
    "The objective of this project is to develop a robust multi-class text classification model capable of automatically categorizing online discussion content into one of five thematic categories: Politics, Sports, Media, Market & Economy, and STEM.\n",
    "\n",
    "## 💡 Model Architecture Overview\n",
    "To achieve high accuracy while balancing performance and efficiency, we designed a hybrid deep learning model with the following key components:\n",
    "\n",
    "  - RoBERTa Embedding Layer (Frozen):\n",
    "We utilize the contextual embeddings from the pretrained roberta-base model to represent each input token. These embeddings are rich in semantic understanding and eliminate the need to train a new embedding layer from scratch. All RoBERTa weights are frozen during training to reduce memory and computational load.\n",
    "\n",
    "  - Transformer Encoder Layer (Custom):\n",
    "A stack of Transformer Encoder layers is applied to further model inter-token dependencies. These layers operate on the RoBERTa embeddings and enhance long-range contextual understanding using multi-head self-attention, layer normalization, and GELU activations.\n",
    "\n",
    "  - BiGRU Layer:\n",
    "To model sequential dynamics and word order more effectively, we pass the Transformer-encoded output through a bidirectional GRU. This step captures forward and backward temporal dependencies, enhancing the model's sensitivity to subtle sequence-level patterns.\n",
    "\n",
    "  - Classification Head:\n",
    "The final hidden state from the BiGRU is fed into a fully connected classification head composed of linear layers, GELU activation, dropout, and layer normalization. The final output is a softmax over the five categories."
   ]
  },
  {
   "cell_type": "markdown",
   "metadata": {},
   "source": [
    "## 💾 The Data\n",
    "| Column     | Description              |\n",
    "|------------|--------------------------|\n",
    "| `SampleID` | A unique identifier assigned to each discussion sample in the dataset.|\n",
    "| `Discussion` | A textual excerpt representing an online discussion or comment.|\n",
    "| `Category` | The class label representing the topic of the discussion. One of five classes: \"Politics\", \"Sports\", \"Media\", \"Market & Economy\", or \"STEM\".|"
   ]
  },
  {
   "cell_type": "markdown",
   "metadata": {},
   "source": [
    "## 🧭 Goal of the Analysis\n",
    " - Explore and understand the dataset through summary statistics, class distributions, and text length distributions.\n",
    "\n",
    " - Train and evaluate the hybrid Transformer + BiGRU classification model using metrics like accuracy, F1-score, and confusion matrix.\n",
    "\n",
    " - Save the trained model to allow inference on new or unseen discussion posts.\n",
    "\n",
    "This architecture aims to combine the representational strength of RoBERTa with the sequence modeling capabilities of Transformer and BiGRU, achieving both accuracy and generalization across diverse text categories."
   ]
  },
  {
   "cell_type": "markdown",
   "metadata": {},
   "source": [
    "### Import needed Libraries"
   ]
  },
  {
   "cell_type": "code",
   "execution_count": null,
   "metadata": {},
   "outputs": [
    {
     "name": "stderr",
     "output_type": "stream",
     "text": [
      "[nltk_data] Downloading package punkt to C:\\Users\\P\n",
      "[nltk_data]     C\\AppData\\Roaming\\nltk_data...\n",
      "[nltk_data]   Package punkt is already up-to-date!\n",
      "[nltk_data] Downloading package wordnet to C:\\Users\\P\n",
      "[nltk_data]     C\\AppData\\Roaming\\nltk_data...\n",
      "[nltk_data]   Package wordnet is already up-to-date!\n",
      "[nltk_data] Downloading package stopwords to C:\\Users\\P\n",
      "[nltk_data]     C\\AppData\\Roaming\\nltk_data...\n",
      "[nltk_data]   Package stopwords is already up-to-date!\n",
      "[nltk_data] Downloading package averaged_perceptron_tagger to\n",
      "[nltk_data]     C:\\Users\\P C\\AppData\\Roaming\\nltk_data...\n",
      "[nltk_data]   Package averaged_perceptron_tagger is already up-to-\n",
      "[nltk_data]       date!\n",
      "[nltk_data] Downloading package omw-1.4 to C:\\Users\\P\n",
      "[nltk_data]     C\\AppData\\Roaming\\nltk_data...\n",
      "[nltk_data]   Package omw-1.4 is already up-to-date!\n",
      "Some weights of RobertaModel were not initialized from the model checkpoint at roberta-base and are newly initialized: ['roberta.pooler.dense.bias', 'roberta.pooler.dense.weight']\n",
      "You should probably TRAIN this model on a down-stream task to be able to use it for predictions and inference.\n"
     ]
    }
   ],
   "source": [
    "# ----------------------\n",
    "# Standard Library\n",
    "# ----------------------\n",
    "import os\n",
    "import re\n",
    "import math\n",
    "import time\n",
    "import warnings\n",
    "import argparse\n",
    "from datetime import datetime\n",
    "from collections import defaultdict\n",
    "import random\n",
    "# Ignore warnings\n",
    "warnings.filterwarnings(\"ignore\")\n",
    "\n",
    "# ----------------------\n",
    "# Data Manipulation\n",
    "# ----------------------\n",
    "import numpy as np\n",
    "import pandas as pd\n",
    "\n",
    "# ----------------------\n",
    "# NLTK for NLP Tasks\n",
    "# ----------------------\n",
    "import nltk\n",
    "from nltk.corpus import stopwords, wordnet\n",
    "from nltk.stem import WordNetLemmatizer\n",
    "from nltk.tokenize import word_tokenize\n",
    "from nltk import pos_tag\n",
    "\n",
    "# Download necessary NLTK resources (run only once)\n",
    "nltk.download('punkt')\n",
    "nltk.download('wordnet')\n",
    "nltk.download('stopwords')\n",
    "nltk.download('averaged_perceptron_tagger')\n",
    "nltk.download('omw-1.4')\n",
    "\n",
    "# Initialize lemmatizer and stopwords\n",
    "lemmatizer = WordNetLemmatizer()\n",
    "stop_words = set(stopwords.words('english'))\n",
    "\n",
    "# ----------------------\n",
    "# Machine Learning & Evaluation\n",
    "# ----------------------\n",
    "from sklearn.metrics import accuracy_score, classification_report\n",
    "from sklearn.model_selection import train_test_split\n",
    "from sklearn.preprocessing import LabelEncoder\n",
    "from sklearn.utils.class_weight import compute_class_weight\n",
    "\n",
    "\n",
    "# ----------------------\n",
    "# PyTorch and Related\n",
    "# ----------------------\n",
    "import torch\n",
    "import torch.nn as nn\n",
    "import torch.nn.functional as F\n",
    "from torch.utils.data import DataLoader, Dataset\n",
    "from torchmetrics import Accuracy,F1Score, ConfusionMatrix\n",
    "from tqdm.auto import tqdm\n",
    "import torch.optim as optim\n",
    "\n",
    "# Set device\n",
    "device = torch.device(\"cuda\" if torch.cuda.is_available() else \"cpu\")\n",
    "\n",
    "# ----------------------\n",
    "# Transformers (Hugging Face)\n",
    "# ----------------------\n",
    "from transformers import (\n",
    "    AutoTokenizer,\n",
    "    RobertaTokenizer,\n",
    "    RobertaModel,\n",
    "    get_linear_schedule_with_warmup\n",
    "  \n",
    ")\n",
    "\n",
    "# Load pre-trained models and tokenizers\n",
    "tokenizer_roberta = RobertaTokenizer.from_pretrained('roberta-base')\n",
    "model_roberta = RobertaModel.from_pretrained('roberta-base')\n",
    "\n",
    "\n",
    "import seaborn as sns\n",
    "import matplotlib.pyplot as plt\n",
    "pd.set_option('mode.chained_assignment', None)\n",
    "\n",
    "from matplotlib import cm\n",
    "import matplotlib.patches as mpatches\n"
   ]
  },
  {
   "cell_type": "code",
   "execution_count": 2,
   "metadata": {},
   "outputs": [],
   "source": [
    "# Set seed for reproducibility\n",
    "def set_seed(seed):\n",
    "    random.seed(seed)\n",
    "    np.random.seed(seed)\n",
    "    torch.manual_seed(seed)\n",
    "    if torch.cuda.is_available():\n",
    "        torch.cuda.manual_seed(seed)\n",
    "        torch.cuda.manual_seed_all(seed)  # if using multiple GPUs\n",
    "        torch.backends.cudnn.deterministic = True\n",
    "        torch.backends.cudnn.benchmark = False\n",
    "\n",
    "set_seed(42)"
   ]
  },
  {
   "cell_type": "markdown",
   "metadata": {},
   "source": [
    "### Investigating dataset"
   ]
  },
  {
   "cell_type": "code",
   "execution_count": 3,
   "metadata": {},
   "outputs": [
    {
     "data": {
      "text/html": [
       "<div>\n",
       "<style scoped>\n",
       "    .dataframe tbody tr th:only-of-type {\n",
       "        vertical-align: middle;\n",
       "    }\n",
       "\n",
       "    .dataframe tbody tr th {\n",
       "        vertical-align: top;\n",
       "    }\n",
       "\n",
       "    .dataframe thead th {\n",
       "        text-align: right;\n",
       "    }\n",
       "</style>\n",
       "<table border=\"1\" class=\"dataframe\">\n",
       "  <thead>\n",
       "    <tr style=\"text-align: right;\">\n",
       "      <th></th>\n",
       "      <th>SampleID</th>\n",
       "      <th>Discussion</th>\n",
       "      <th>Category</th>\n",
       "    </tr>\n",
       "  </thead>\n",
       "  <tbody>\n",
       "    <tr>\n",
       "      <th>0</th>\n",
       "      <td>1</td>\n",
       "      <td>Without sitting down and doing it manually, yo...</td>\n",
       "      <td>Sports</td>\n",
       "    </tr>\n",
       "    <tr>\n",
       "      <th>1</th>\n",
       "      <td>2</td>\n",
       "      <td>All your Search ends with this link.</td>\n",
       "      <td>STEM</td>\n",
       "    </tr>\n",
       "    <tr>\n",
       "      <th>2</th>\n",
       "      <td>3</td>\n",
       "      <td>No, the program you're using is made to be com...</td>\n",
       "      <td>STEM</td>\n",
       "    </tr>\n",
       "    <tr>\n",
       "      <th>3</th>\n",
       "      <td>4</td>\n",
       "      <td>Mike Woicik\\n\\nThe correct answer is: Mike Woi...</td>\n",
       "      <td>Sports</td>\n",
       "    </tr>\n",
       "    <tr>\n",
       "      <th>4</th>\n",
       "      <td>5</td>\n",
       "      <td>No, but not because of why you might think. Wh...</td>\n",
       "      <td>Politics</td>\n",
       "    </tr>\n",
       "  </tbody>\n",
       "</table>\n",
       "</div>"
      ],
      "text/plain": [
       "   SampleID                                         Discussion  Category\n",
       "0         1  Without sitting down and doing it manually, yo...    Sports\n",
       "1         2               All your Search ends with this link.      STEM\n",
       "2         3  No, the program you're using is made to be com...      STEM\n",
       "3         4  Mike Woicik\\n\\nThe correct answer is: Mike Woi...    Sports\n",
       "4         5  No, but not because of why you might think. Wh...  Politics"
      ]
     },
     "execution_count": 3,
     "metadata": {},
     "output_type": "execute_result"
    }
   ],
   "source": [
    "data = pd.read_csv(\"train.csv\")\n",
    "data.head()"
   ]
  },
  {
   "cell_type": "code",
   "execution_count": 4,
   "metadata": {},
   "outputs": [
    {
     "name": "stdout",
     "output_type": "stream",
     "text": [
      "<class 'pandas.core.frame.DataFrame'>\n",
      "RangeIndex: 24989 entries, 0 to 24988\n",
      "Data columns (total 3 columns):\n",
      " #   Column      Non-Null Count  Dtype \n",
      "---  ------      --------------  ----- \n",
      " 0   SampleID    24989 non-null  int64 \n",
      " 1   Discussion  24646 non-null  object\n",
      " 2   Category    24989 non-null  object\n",
      "dtypes: int64(1), object(2)\n",
      "memory usage: 585.8+ KB\n"
     ]
    }
   ],
   "source": [
    "data.info()"
   ]
  },
  {
   "cell_type": "code",
   "execution_count": 5,
   "metadata": {},
   "outputs": [],
   "source": [
    "data.dropna(inplace=True)"
   ]
  },
  {
   "cell_type": "code",
   "execution_count": 6,
   "metadata": {},
   "outputs": [
    {
     "data": {
      "text/plain": [
       "4000"
      ]
     },
     "metadata": {},
     "output_type": "display_data"
    },
    {
     "data": {
      "text/plain": [
       "1"
      ]
     },
     "metadata": {},
     "output_type": "display_data"
    }
   ],
   "source": [
    "display(max([len(s) for s in data['Discussion']if isinstance(s, str)]))\n",
    "display(min([len(s) for s in data['Discussion']if isinstance(s, str)]))"
   ]
  },
  {
   "cell_type": "code",
   "execution_count": 7,
   "metadata": {},
   "outputs": [
    {
     "name": "stdout",
     "output_type": "stream",
     "text": [
      "275\n"
     ]
    }
   ],
   "source": [
    "test = data['Discussion'].loc[0]\n",
    "print(len(test))"
   ]
  },
  {
   "cell_type": "code",
   "execution_count": 8,
   "metadata": {},
   "outputs": [
    {
     "name": "stdout",
     "output_type": "stream",
     "text": [
      "Discussion\n",
      "1       9\n",
      "2      47\n",
      "3      78\n",
      "4      66\n",
      "5      70\n",
      "6      77\n",
      "7      78\n",
      "8      95\n",
      "9      70\n",
      "10     95\n",
      "11     97\n",
      "12     91\n",
      "13     88\n",
      "14    116\n",
      "15    101\n",
      "16     93\n",
      "17    110\n",
      "18     92\n",
      "19    105\n",
      "20    104\n",
      "21     99\n",
      "22     85\n",
      "23     96\n",
      "24     87\n",
      "25     84\n",
      "26     93\n",
      "27     92\n",
      "28     90\n",
      "29     97\n",
      "30     80\n",
      "31     91\n",
      "32    100\n",
      "33     85\n",
      "34     78\n",
      "35     86\n",
      "36     76\n",
      "37     87\n",
      "38     83\n",
      "39     93\n",
      "40     75\n",
      "41     84\n",
      "42     89\n",
      "43     83\n",
      "44     99\n",
      "45     79\n",
      "46     86\n",
      "47     67\n",
      "48     80\n",
      "49     78\n",
      "50     95\n",
      "Name: count, dtype: int64\n"
     ]
    }
   ],
   "source": [
    "\n",
    "row_lengths = data['Discussion'].apply(lambda row: len(row))\n",
    "\n",
    "length_counts = row_lengths.value_counts()\n",
    "\n",
    "sorted_counts = length_counts.sort_index(ascending=True)\n",
    "\n",
    "print(sorted_counts.head(50))"
   ]
  },
  {
   "cell_type": "code",
   "execution_count": 9,
   "metadata": {},
   "outputs": [
    {
     "data": {
      "text/plain": [
       "1863"
      ]
     },
     "execution_count": 9,
     "metadata": {},
     "output_type": "execute_result"
    }
   ],
   "source": [
    "len(sorted_counts)"
   ]
  },
  {
   "cell_type": "code",
   "execution_count": 10,
   "metadata": {},
   "outputs": [
    {
     "name": "stdout",
     "output_type": "stream",
     "text": [
      "Discussion\n",
      "3902    1\n",
      "3905    1\n",
      "3907    1\n",
      "3908    2\n",
      "3910    1\n",
      "3911    1\n",
      "3913    1\n",
      "3916    1\n",
      "3917    2\n",
      "3918    1\n",
      "3921    2\n",
      "3922    2\n",
      "3926    1\n",
      "3928    1\n",
      "3932    1\n",
      "3936    1\n",
      "3937    2\n",
      "3938    3\n",
      "3940    3\n",
      "3942    3\n",
      "3944    3\n",
      "3946    2\n",
      "3947    1\n",
      "3948    1\n",
      "3950    1\n",
      "3952    1\n",
      "3955    2\n",
      "3956    3\n",
      "3958    2\n",
      "3960    2\n",
      "3961    1\n",
      "3965    1\n",
      "3966    2\n",
      "3968    3\n",
      "3969    1\n",
      "3970    4\n",
      "3971    1\n",
      "3972    2\n",
      "3974    1\n",
      "3975    2\n",
      "3976    2\n",
      "3978    1\n",
      "3982    3\n",
      "3983    1\n",
      "3986    1\n",
      "3987    1\n",
      "3990    4\n",
      "3992    2\n",
      "3996    1\n",
      "4000    1\n",
      "Name: count, dtype: int64\n"
     ]
    }
   ],
   "source": [
    "print(sorted_counts.tail(50))"
   ]
  },
  {
   "cell_type": "markdown",
   "metadata": {},
   "source": [
    "### Data Preprocessing\n",
    "This section handles raw text cleaning, normalization, lemmatization, and token filtering. It also removes missing or duplicate entries and prepares a clean version of the discussion text for further analysis and modeling.\n"
   ]
  },
  {
   "cell_type": "code",
   "execution_count": 11,
   "metadata": {},
   "outputs": [],
   "source": [
    "\n",
    "# Custom blacklist of irrelevant words\n",
    "blacklist = {\"html\", \"tag\", \"pdp\", \"prod\"}\n",
    "\n",
    "# Helper function to map NLTK POS tags to WordNet POS tags\n",
    "def get_wordnet_pos(nltk_pos):\n",
    "    if nltk_pos.startswith('J'):  # Adjective\n",
    "        return wordnet.ADJ\n",
    "    elif nltk_pos.startswith('V'):  # Verb\n",
    "        return wordnet.VERB\n",
    "    elif nltk_pos.startswith('N'):  # Noun\n",
    "        return wordnet.NOUN\n",
    "    elif nltk_pos.startswith('R'):  # Adverb\n",
    "        return wordnet.ADV\n",
    "    else:\n",
    "        return wordnet.NOUN  # Default to noun\n",
    "\n",
    "def extract_url_words(url):\n",
    "    # Remove protocols, subdomains, and common domain extensions\n",
    "    url = re.sub(r'https?://(www\\.)?', '', url)\n",
    "    url = re.sub(r'\\.com|\\.org|\\.net|\\.de|\\.co|\\.uk|\\.edu', '', url)\n",
    "    \n",
    "    # Extract words from URL\n",
    "    words = re.findall(r'[A-Za-z]+', url)\n",
    "    return ' '.join(words)\n",
    "\n",
    "def txt_preprocessing(text):\n",
    "    if not isinstance(text, str):\n",
    "        return text\n",
    "\n",
    "    # Replace escaped and actual newlines with space\n",
    "    text = re.sub(r'\\\\n', ' ', text)\n",
    "    text = re.sub(r'\\s*\\n\\s*', ' ', text)\n",
    "    \n",
    "    # Normalize whitespace\n",
    "    text = ' '.join(text.split())\n",
    "\n",
    "    # Extract URLs and replace them with their words\n",
    "    text = re.sub(r'(https?://\\S+)', lambda m: ' ' + extract_url_words(m.group(0)) + ' ', text)\n",
    "\n",
    "    # Remove special characters (keep only alphanumerics and spaces)\n",
    "    text = re.sub(r'[^A-Za-z\\s]', '', text)\n",
    "\n",
    "    # Tokenize the text\n",
    "    tokens = word_tokenize(text)\n",
    "\n",
    "    # Get POS tags for the tokens\n",
    "    pos_tags = pos_tag(tokens)\n",
    "\n",
    "    # Lemmatize each token using the appropriate POS tag\n",
    "    lemmatized_words = []\n",
    "    for token, pos in pos_tags:\n",
    "        # Heuristic to detect gerunds (-ing) and treat them as verbs\n",
    "        if token.lower().endswith('ing') and pos.startswith('N'):\n",
    "            pos = 'VBG'  # Force gerunds to be treated as verbs\n",
    "        \n",
    "        # Map POS tag to WordNet POS tag\n",
    "        wordnet_pos = get_wordnet_pos(pos)\n",
    "        \n",
    "        # Lemmatize the token\n",
    "        lemmatized_words.append(lemmatizer.lemmatize(token.lower(), wordnet_pos))\n",
    "\n",
    "    # Remove stopwords, short/non-meaningful tokens, and blacklisted words AFTER lemmatization\n",
    "    filtered_words = [\n",
    "        word for word in lemmatized_words\n",
    "        if word not in stop_words  # Remove stopwords\n",
    "        and word.isalpha()        # Keep only alphabetic words\n",
    "        and len(word) > 2         # Remove short words\n",
    "        and word not in blacklist # Remove blacklisted words\n",
    "    ]\n",
    "\n",
    "    return ' '.join(filtered_words)\n",
    "\n",
    "\n",
    "# Apply the function\n",
    "data['Discussion_postprocessed'] = data['Discussion'].apply(txt_preprocessing)\n"
   ]
  },
  {
   "cell_type": "code",
   "execution_count": 12,
   "metadata": {},
   "outputs": [
    {
     "data": {
      "text/plain": [
       "\"Without sitting down and doing it manually, you might try some scheduling software.  There are several, here is one that you can download.  I haven't tried it, but it seems to do the job.\\\\n\\\\nhttp://www.download.com/The-League-System-Pro/3000-7427_4-10505040.html?tag=pdp_prod\""
      ]
     },
     "execution_count": 12,
     "metadata": {},
     "output_type": "execute_result"
    }
   ],
   "source": [
    "data['Discussion'].loc[0]"
   ]
  },
  {
   "cell_type": "code",
   "execution_count": 13,
   "metadata": {},
   "outputs": [
    {
     "data": {
      "text/plain": [
       "'without sit manually might try schedule software several one download havent try seem job download league system pro'"
      ]
     },
     "execution_count": 13,
     "metadata": {},
     "output_type": "execute_result"
    }
   ],
   "source": [
    "data['Discussion_postprocessed'].loc[0]"
   ]
  },
  {
   "cell_type": "code",
   "execution_count": 14,
   "metadata": {},
   "outputs": [
    {
     "data": {
      "text/plain": [
       "SampleID                    0\n",
       "Discussion                  0\n",
       "Category                    0\n",
       "Discussion_postprocessed    0\n",
       "dtype: int64"
      ]
     },
     "execution_count": 14,
     "metadata": {},
     "output_type": "execute_result"
    }
   ],
   "source": [
    "data.dropna(inplace=True)\n",
    "data.isna().sum()"
   ]
  },
  {
   "cell_type": "code",
   "execution_count": 15,
   "metadata": {},
   "outputs": [
    {
     "data": {
      "text/plain": [
       "0"
      ]
     },
     "execution_count": 15,
     "metadata": {},
     "output_type": "execute_result"
    }
   ],
   "source": [
    "data.duplicated().sum()"
   ]
  },
  {
   "cell_type": "markdown",
   "metadata": {},
   "source": [
    "### Exploratory Data Analysis (EDA)\n",
    "Here we explore the dataset to understand the structure and distribution of the tokenized text, sentence lengths, and category proportions. Visualizations such as heatmaps and donut charts are used to summarize key statistics.\n"
   ]
  },
  {
   "cell_type": "code",
   "execution_count": 16,
   "metadata": {},
   "outputs": [
    {
     "name": "stdout",
     "output_type": "stream",
     "text": [
      "tokenized_words\n",
      "0      210\n",
      "1      937\n",
      "2     1092\n",
      "3      989\n",
      "4      934\n",
      "5      884\n",
      "6      835\n",
      "7      727\n",
      "8      753\n",
      "9      692\n",
      "10     604\n",
      "11     651\n",
      "12     672\n",
      "13     658\n",
      "14     708\n",
      "15     717\n",
      "16     738\n",
      "17     684\n",
      "18     690\n",
      "19     715\n",
      "20     624\n",
      "21     587\n",
      "22     518\n",
      "23     457\n",
      "24     382\n",
      "25     314\n",
      "26     332\n",
      "27     294\n",
      "28     229\n",
      "29     204\n",
      "30     272\n",
      "31     205\n",
      "32     205\n",
      "33     192\n",
      "34     163\n",
      "35     184\n",
      "36     155\n",
      "37     145\n",
      "38     155\n",
      "39     141\n",
      "40     120\n",
      "41     126\n",
      "42     100\n",
      "43      94\n",
      "44      99\n",
      "45     104\n",
      "46      82\n",
      "47      97\n",
      "48      91\n",
      "49      90\n",
      "Name: count, dtype: int64\n"
     ]
    }
   ],
   "source": [
    "data['tokenized_words'] = data['Discussion_postprocessed'].apply(word_tokenize)\n",
    "\n",
    "row_lengths = data['tokenized_words'].apply(lambda row: len(row))\n",
    "\n",
    "length_counts = row_lengths.value_counts()\n",
    "\n",
    "sorted_counts = length_counts.sort_index(ascending=True)\n",
    "\n",
    "print(sorted_counts.head(50))"
   ]
  },
  {
   "cell_type": "code",
   "execution_count": 17,
   "metadata": {},
   "outputs": [
    {
     "name": "stdout",
     "output_type": "stream",
     "text": [
      "['Sports' 'STEM' 'Politics' 'Media' 'Market & Economy']\n"
     ]
    }
   ],
   "source": [
    "print(data['Category'].unique())"
   ]
  },
  {
   "cell_type": "code",
   "execution_count": 18,
   "metadata": {},
   "outputs": [
    {
     "data": {
      "image/png": "[encoded data removed]",
      "text/plain": [
       "<Figure size 1000x150 with 2 Axes>"
      ]
     },
     "metadata": {},
     "output_type": "display_data"
    }
   ],
   "source": [
    "summary = row_lengths.describe()\n",
    "\n",
    "summary_df = pd.DataFrame(summary).T \n",
    "sns.set(style='whitegrid')\n",
    "\n",
    "# Plot heatmap\n",
    "plt.figure(figsize=(10, 1.5))\n",
    "fig = plt.gcf()\n",
    "fig.set_facecolor(\"#212946\")\n",
    "ax = sns.heatmap(summary_df, annot=True, cmap='YlOrRd', fmt=\".2f\", linewidths=0.5)\n",
    "plt.title('Summary Statistics of row_lengths',fontsize=18, color='white')\n",
    "plt.xlabel('Statistic', fontsize=12, color='white')\n",
    "plt.xticks(fontsize=10, color='white')\n",
    "plt.ylabel('')\n",
    "cbar = ax.collections[0].colorbar\n",
    "cbar.ax.yaxis.set_tick_params(color='white')  \n",
    "cbar.ax.tick_params(labelcolor='white')  \n",
    "plt.yticks([])  \n",
    "plt.tight_layout()\n",
    "plt.show()"
   ]
  },
  {
   "cell_type": "code",
   "execution_count": 19,
   "metadata": {},
   "outputs": [
    {
     "data": {
      "text/plain": [
       "bucket\n",
       "0     19103\n",
       "1      3279\n",
       "2      1108\n",
       "3       429\n",
       "4       253\n",
       "5       138\n",
       "6        85\n",
       "11       62\n",
       "7        59\n",
       "10       43\n",
       "8        35\n",
       "9        26\n",
       "12       23\n",
       "13        3\n",
       "Name: count, dtype: int64"
      ]
     },
     "execution_count": 19,
     "metadata": {},
     "output_type": "execute_result"
    }
   ],
   "source": [
    "# Define the bucket sizes\n",
    "bucket_limits = [30, 60, 90, 120, 150, 180, 210, 240, 270, 300, 330, 360, 390, 424]\n",
    "\n",
    "# Define a function to categorize based on sentence length\n",
    "def get_bucket(length, bucket_limits):\n",
    "    for i, limit in enumerate(bucket_limits):\n",
    "        if length <= limit:\n",
    "            return i\n",
    "    return len(bucket_limits)\n",
    "\n",
    "data['bucket'] = data['tokenized_words'].apply(lambda x: get_bucket(len(x), bucket_limits))\n",
    "\n",
    "data['bucket'].value_counts()"
   ]
  },
  {
   "cell_type": "code",
   "execution_count": 20,
   "metadata": {},
   "outputs": [],
   "source": [
    "data = data[row_lengths>3]\n"
   ]
  },
  {
   "cell_type": "code",
   "execution_count": 21,
   "metadata": {},
   "outputs": [],
   "source": [
    "data.reset_index(drop=True, inplace=True)"
   ]
  },
  {
   "cell_type": "code",
   "execution_count": 22,
   "metadata": {},
   "outputs": [
    {
     "data": {
      "text/html": [
       "<div>\n",
       "<style scoped>\n",
       "    .dataframe tbody tr th:only-of-type {\n",
       "        vertical-align: middle;\n",
       "    }\n",
       "\n",
       "    .dataframe tbody tr th {\n",
       "        vertical-align: top;\n",
       "    }\n",
       "\n",
       "    .dataframe thead th {\n",
       "        text-align: right;\n",
       "    }\n",
       "</style>\n",
       "<table border=\"1\" class=\"dataframe\">\n",
       "  <thead>\n",
       "    <tr style=\"text-align: right;\">\n",
       "      <th></th>\n",
       "      <th>SampleID</th>\n",
       "      <th>Discussion</th>\n",
       "      <th>Category</th>\n",
       "      <th>Discussion_postprocessed</th>\n",
       "      <th>tokenized_words</th>\n",
       "      <th>bucket</th>\n",
       "    </tr>\n",
       "  </thead>\n",
       "  <tbody>\n",
       "    <tr>\n",
       "      <th>0</th>\n",
       "      <td>1</td>\n",
       "      <td>Without sitting down and doing it manually, yo...</td>\n",
       "      <td>Sports</td>\n",
       "      <td>without sit manually might try schedule softwa...</td>\n",
       "      <td>[without, sit, manually, might, try, schedule,...</td>\n",
       "      <td>0</td>\n",
       "    </tr>\n",
       "    <tr>\n",
       "      <th>1</th>\n",
       "      <td>3</td>\n",
       "      <td>No, the program you're using is made to be com...</td>\n",
       "      <td>STEM</td>\n",
       "      <td>program youre use make compatible dvdrom drive...</td>\n",
       "      <td>[program, youre, use, make, compatible, dvdrom...</td>\n",
       "      <td>0</td>\n",
       "    </tr>\n",
       "    <tr>\n",
       "      <th>2</th>\n",
       "      <td>4</td>\n",
       "      <td>Mike Woicik\\n\\nThe correct answer is: Mike Woi...</td>\n",
       "      <td>Sports</td>\n",
       "      <td>mike woicik correct answer mike woicik super b...</td>\n",
       "      <td>[mike, woicik, correct, answer, mike, woicik, ...</td>\n",
       "      <td>2</td>\n",
       "    </tr>\n",
       "    <tr>\n",
       "      <th>3</th>\n",
       "      <td>5</td>\n",
       "      <td>No, but not because of why you might think. Wh...</td>\n",
       "      <td>Politics</td>\n",
       "      <td>might think profile something tend miss dont f...</td>\n",
       "      <td>[might, think, profile, something, tend, miss,...</td>\n",
       "      <td>2</td>\n",
       "    </tr>\n",
       "    <tr>\n",
       "      <th>4</th>\n",
       "      <td>6</td>\n",
       "      <td>I was just wondering that though the webcams a...</td>\n",
       "      <td>Media</td>\n",
       "      <td>wonder though webcam run</td>\n",
       "      <td>[wonder, though, webcam, run]</td>\n",
       "      <td>0</td>\n",
       "    </tr>\n",
       "    <tr>\n",
       "      <th>...</th>\n",
       "      <td>...</td>\n",
       "      <td>...</td>\n",
       "      <td>...</td>\n",
       "      <td>...</td>\n",
       "      <td>...</td>\n",
       "      <td>...</td>\n",
       "    </tr>\n",
       "    <tr>\n",
       "      <th>21413</th>\n",
       "      <td>24984</td>\n",
       "      <td>Because the US has one of the most relaxed and...</td>\n",
       "      <td>Politics</td>\n",
       "      <td>one relaxed unbiased immigration policy world</td>\n",
       "      <td>[one, relaxed, unbiased, immigration, policy, ...</td>\n",
       "      <td>0</td>\n",
       "    </tr>\n",
       "    <tr>\n",
       "      <th>21414</th>\n",
       "      <td>24985</td>\n",
       "      <td>He's got more pull with the horses than most j...</td>\n",
       "      <td>Sports</td>\n",
       "      <td>get pull horse jockey gifted person make targe...</td>\n",
       "      <td>[get, pull, horse, jockey, gifted, person, mak...</td>\n",
       "      <td>1</td>\n",
       "    </tr>\n",
       "    <tr>\n",
       "      <th>21415</th>\n",
       "      <td>24986</td>\n",
       "      <td>Yes he did for a big juicy cheeseburger with f...</td>\n",
       "      <td>Market &amp; Economy</td>\n",
       "      <td>yes big juicy cheeseburger fry coke check ebay...</td>\n",
       "      <td>[yes, big, juicy, cheeseburger, fry, coke, che...</td>\n",
       "      <td>0</td>\n",
       "    </tr>\n",
       "    <tr>\n",
       "      <th>21416</th>\n",
       "      <td>24988</td>\n",
       "      <td>It is sexual harassment because it is offensiv...</td>\n",
       "      <td>Politics</td>\n",
       "      <td>sexual harassment offensive sexual make teache...</td>\n",
       "      <td>[sexual, harassment, offensive, sexual, make, ...</td>\n",
       "      <td>2</td>\n",
       "    </tr>\n",
       "    <tr>\n",
       "      <th>21417</th>\n",
       "      <td>24989</td>\n",
       "      <td>Ok it wasnt absinthe i never saw the movie i w...</td>\n",
       "      <td>Media</td>\n",
       "      <td>wasnt absinthe never saw movie guess whatever ...</td>\n",
       "      <td>[wasnt, absinthe, never, saw, movie, guess, wh...</td>\n",
       "      <td>0</td>\n",
       "    </tr>\n",
       "  </tbody>\n",
       "</table>\n",
       "<p>21418 rows × 6 columns</p>\n",
       "</div>"
      ],
      "text/plain": [
       "       SampleID                                         Discussion  \\\n",
       "0             1  Without sitting down and doing it manually, yo...   \n",
       "1             3  No, the program you're using is made to be com...   \n",
       "2             4  Mike Woicik\\n\\nThe correct answer is: Mike Woi...   \n",
       "3             5  No, but not because of why you might think. Wh...   \n",
       "4             6  I was just wondering that though the webcams a...   \n",
       "...         ...                                                ...   \n",
       "21413     24984  Because the US has one of the most relaxed and...   \n",
       "21414     24985  He's got more pull with the horses than most j...   \n",
       "21415     24986  Yes he did for a big juicy cheeseburger with f...   \n",
       "21416     24988  It is sexual harassment because it is offensiv...   \n",
       "21417     24989  Ok it wasnt absinthe i never saw the movie i w...   \n",
       "\n",
       "               Category                           Discussion_postprocessed  \\\n",
       "0                Sports  without sit manually might try schedule softwa...   \n",
       "1                  STEM  program youre use make compatible dvdrom drive...   \n",
       "2                Sports  mike woicik correct answer mike woicik super b...   \n",
       "3              Politics  might think profile something tend miss dont f...   \n",
       "4                 Media                           wonder though webcam run   \n",
       "...                 ...                                                ...   \n",
       "21413          Politics      one relaxed unbiased immigration policy world   \n",
       "21414            Sports  get pull horse jockey gifted person make targe...   \n",
       "21415  Market & Economy  yes big juicy cheeseburger fry coke check ebay...   \n",
       "21416          Politics  sexual harassment offensive sexual make teache...   \n",
       "21417             Media  wasnt absinthe never saw movie guess whatever ...   \n",
       "\n",
       "                                         tokenized_words  bucket  \n",
       "0      [without, sit, manually, might, try, schedule,...       0  \n",
       "1      [program, youre, use, make, compatible, dvdrom...       0  \n",
       "2      [mike, woicik, correct, answer, mike, woicik, ...       2  \n",
       "3      [might, think, profile, something, tend, miss,...       2  \n",
       "4                          [wonder, though, webcam, run]       0  \n",
       "...                                                  ...     ...  \n",
       "21413  [one, relaxed, unbiased, immigration, policy, ...       0  \n",
       "21414  [get, pull, horse, jockey, gifted, person, mak...       1  \n",
       "21415  [yes, big, juicy, cheeseburger, fry, coke, che...       0  \n",
       "21416  [sexual, harassment, offensive, sexual, make, ...       2  \n",
       "21417  [wasnt, absinthe, never, saw, movie, guess, wh...       0  \n",
       "\n",
       "[21418 rows x 6 columns]"
      ]
     },
     "execution_count": 22,
     "metadata": {},
     "output_type": "execute_result"
    }
   ],
   "source": [
    "data"
   ]
  },
  {
   "cell_type": "code",
   "execution_count": 23,
   "metadata": {},
   "outputs": [],
   "source": [
    "def plot_donut_chart(df: pd.DataFrame, ax: plt.Axes, title: str):\n",
    "    labels = df.Category\n",
    "    sizes = df.proportion\n",
    "    colormap_sect = np.linspace(0, 5, 25)\n",
    "    colors = [cm.spring(x) for x in colormap_sect]\n",
    "\n",
    "    # Set width to 0.5 for both charts\n",
    "    ax.pie(sizes, colors=colors, wedgeprops={'linewidth': 3, 'edgecolor': '#212946', 'width': 0.5})\n",
    "\n",
    "    # Create a white circle at the center to turn the pie chart into a donut chart\n",
    "    center_circle = plt.Circle((0, 0), 0.6, color='#212946')\n",
    "    fig = ax.get_figure()\n",
    "    fig.gca().add_artist(center_circle)\n",
    "    \n",
    "    percents = sizes *100 \n",
    "    labels = [f'{l}, {p:0.1f}%' for l, p in zip(labels, percents)]\n",
    "    patches = [mpatches.Patch(color=color, label=label) for color, label in zip(colors, labels)]\n",
    "    \n",
    "    legend = ax.legend(handles=patches, bbox_to_anchor=(1.0, 1), loc='upper left', fontsize=20, frameon=False)\n",
    "    for text in legend.get_texts():\n",
    "       text.set_color(\"white\")\n",
    "    \n",
    "\n",
    "    ax.set_title(title, fontsize=23, color='white')\n",
    "    ax.set_aspect('equal')  # Set the aspect ratio to be equal"
   ]
  },
  {
   "cell_type": "code",
   "execution_count": 24,
   "metadata": {},
   "outputs": [
    {
     "data": {
      "image/png": "[encoded data removed]",
      "text/plain": [
       "<Figure size 800x600 with 1 Axes>"
      ]
     },
     "metadata": {},
     "output_type": "display_data"
    }
   ],
   "source": [
    "normalize_cat = pd.DataFrame(data['Category'].value_counts(normalize=True)).reset_index()\n",
    "fig, ax = plt.subplots(figsize=(8, 6))\n",
    "fig.set_facecolor(\"#212946\")\n",
    "plot_donut_chart(normalize_cat, ax=ax, title=\"Category Proportions\")\n",
    "plt.tight_layout()\n",
    "plt.show()"
   ]
  },
  {
   "cell_type": "markdown",
   "metadata": {},
   "source": [
    "### Data Splitting & Dataset Preparation\n",
    "This section splits the data into training and validation sets, encodes the target labels, and prepares a PyTorch Dataset and DataLoader for model training and evaluation.\n"
   ]
  },
  {
   "cell_type": "code",
   "execution_count": 25,
   "metadata": {},
   "outputs": [
    {
     "name": "stdout",
     "output_type": "stream",
     "text": [
      "ids:  tensor([[    0, 31240,  6920,  ...,     1,     1,     1],\n",
      "        [    0,  7424, 33852,  ...,     1,     1,     1],\n",
      "        [    0,   298, 41311,  ...,     1,     1,     1],\n",
      "        ...,\n",
      "        [    0, 48048, 11345,  ...,     1,     1,     1],\n",
      "        [    0,    90, 10168,  ...,     1,     1,     1],\n",
      "        [    0, 43830,  6063,  ...,     1,     1,     1]])\n",
      "mask:  tensor([[1, 1, 1,  ..., 0, 0, 0],\n",
      "        [1, 1, 1,  ..., 0, 0, 0],\n",
      "        [1, 1, 1,  ..., 0, 0, 0],\n",
      "        ...,\n",
      "        [1, 1, 1,  ..., 0, 0, 0],\n",
      "        [1, 1, 1,  ..., 0, 0, 0],\n",
      "        [1, 1, 1,  ..., 0, 0, 0]])\n",
      "label:  tensor([3, 1, 0, 0, 3, 3, 0, 2, 4, 0, 1, 1, 3, 4, 4, 4])\n"
     ]
    }
   ],
   "source": [
    "\n",
    "data_train, data_val = train_test_split(\n",
    "    data, \n",
    "    test_size=0.2, \n",
    "    stratify=data['Category'], \n",
    "    random_state=42\n",
    ")\n",
    "\n",
    "data_train = data_train.reset_index(drop=True)\n",
    "data_val = data_val.reset_index(drop=True)\n",
    "lb = LabelEncoder()\n",
    "lb.classes_ = np.array([\"Politics\", \"Sports\", \"Media\", \"Market & Economy\", \"STEM\"])\n",
    "class TextDataset(Dataset):\n",
    "    def __init__(self, text, tokenizer, max_len, category, labelencoder):\n",
    "        self.text = text\n",
    "        self.tokenizer = tokenizer\n",
    "        self.max_len = max_len\n",
    "        self.category = category\n",
    "        self.labelencoder = labelencoder\n",
    "    \n",
    "    def __len__(self):\n",
    "        return len(self.text)\n",
    "    \n",
    "    def __getitem__(self, index):\n",
    "        text = self.text[index]\n",
    "        category = self.category[index]\n",
    "        \n",
    "        encoding = self.tokenizer(\n",
    "            text,\n",
    "            max_length=self.max_len,\n",
    "            padding='max_length',  \n",
    "            truncation=True,\n",
    "            return_tensors=\"pt\"\n",
    "        )\n",
    "        \n",
    "        \n",
    "        label = self.labelencoder.transform([category])[0]\n",
    "        \n",
    "        return (\n",
    "            encoding['input_ids'].squeeze(0), \n",
    "            encoding['attention_mask'].squeeze(0), \n",
    "            torch.tensor(label, dtype=torch.long)\n",
    "        )\n",
    "\n",
    "textdata_train = TextDataset(data_train['Discussion_postprocessed'], tokenizer_roberta, 120, data_train['Category'], lb)\n",
    "textdata_val = TextDataset(data_val['Discussion_postprocessed'], tokenizer_roberta, 120, data_val['Category'], lb)\n",
    "\n",
    "train_loader = DataLoader(textdata_train, shuffle=True, batch_size=16)\n",
    "val_loader = DataLoader(textdata_val, shuffle=False, batch_size=16)\n",
    "\n",
    "for ids, mask, label in train_loader:\n",
    "    print(\"ids: \", ids)\n",
    "    print(\"mask: \", mask)\n",
    "    print(\"label: \", label)\n",
    "    break"
   ]
  },
  {
   "cell_type": "code",
   "execution_count": 26,
   "metadata": {},
   "outputs": [
    {
     "data": {
      "text/plain": [
       "Category\n",
       "STEM                0.231645\n",
       "Market & Economy    0.225750\n",
       "Sports              0.218805\n",
       "Politics            0.172873\n",
       "Media               0.150928\n",
       "Name: proportion, dtype: float64"
      ]
     },
     "execution_count": 26,
     "metadata": {},
     "output_type": "execute_result"
    }
   ],
   "source": [
    "data_train['Category'].value_counts(normalize=True)"
   ]
  },
  {
   "cell_type": "code",
   "execution_count": 27,
   "metadata": {},
   "outputs": [],
   "source": [
    "sos_token_id = tokenizer_roberta.bos_token_id  # <sos> token ID\n",
    "eos_token_id = tokenizer_roberta.eos_token_id  # <eos> token ID\n",
    "pad_token_id = tokenizer_roberta.pad_token_id  # Padding token ID\n"
   ]
  },
  {
   "cell_type": "markdown",
   "metadata": {},
   "source": [
    "### Model Architecture\n",
    "Defines the `TextClassification` model that combines frozen RoBERTa embeddings with a Transformer Encoder and a bidirectional GRU. The architecture extracts contextual and sequential features before passing them through a fully connected classifier.\n"
   ]
  },
  {
   "cell_type": "code",
   "execution_count": 28,
   "metadata": {},
   "outputs": [],
   "source": [
    "class TextClassification(nn.Module):\n",
    "    def __init__(self, num_heads, num_layers, ff_dim, num_classes, hidden_size, dropout_rate=0.3, roberta_name='roberta-base', bidirectional=True):\n",
    "        super().__init__()\n",
    "        self.bidirectional = bidirectional\n",
    "\n",
    "        # Load pretrained RoBERTa\n",
    "        self.roberta = RobertaModel.from_pretrained(roberta_name)\n",
    "        \n",
    "        # Freeze RoBERTa parameters\n",
    "        for param in self.roberta.parameters():\n",
    "            param.requires_grad = False\n",
    "            \n",
    "        embedding_dim = self.roberta.config.hidden_size  # typically 768\n",
    "\n",
    "        self.embed_dropout = nn.Dropout(dropout_rate)\n",
    "\n",
    "        # Transformer encoder\n",
    "        encoder_layer = nn.TransformerEncoderLayer(\n",
    "            d_model=embedding_dim,\n",
    "            nhead=num_heads,\n",
    "            dropout=dropout_rate,\n",
    "            dim_feedforward=ff_dim,\n",
    "            activation=\"gelu\",\n",
    "            batch_first=True,\n",
    "            norm_first=True\n",
    "        )\n",
    "        self.encoder = nn.TransformerEncoder(encoder_layer, num_layers=num_layers)\n",
    "\n",
    "        # BiGRU layer\n",
    "        self.rnn = nn.GRU(\n",
    "            embedding_dim, \n",
    "            hidden_size, \n",
    "            num_layers=num_layers//2, \n",
    "            batch_first=True, \n",
    "            bidirectional=bidirectional,\n",
    "            dropout=dropout_rate if num_layers//2 > 1 else 0\n",
    "        )\n",
    "\n",
    "        # Final classifier\n",
    "        gru_output_dim = hidden_size * 2 if bidirectional else hidden_size\n",
    "        self.classifier = nn.Sequential(\n",
    "            nn.Linear(gru_output_dim, hidden_size),\n",
    "            nn.GELU(),\n",
    "            nn.Dropout(dropout_rate),\n",
    "            nn.LayerNorm(hidden_size),\n",
    "            nn.Linear(hidden_size, num_classes)\n",
    "        )\n",
    "\n",
    "    def forward(self, input_ids, attention_mask):\n",
    "        # Get contextual embeddings from RoBERTa\n",
    "        with torch.no_grad():\n",
    "            roberta_outputs = self.roberta(input_ids=input_ids, attention_mask=attention_mask)\n",
    "        x = self.embed_dropout(roberta_outputs.last_hidden_state)\n",
    "\n",
    "        # Transformer encoding\n",
    "        # Correctly invert the attention mask for transformer padding mask\n",
    "        src_key_padding_mask = (attention_mask == 0)  # This is clearer than using ~ operator\n",
    "        encoded = self.encoder(x, src_key_padding_mask=src_key_padding_mask)\n",
    "\n",
    "        # GRU encoding - use packed sequence for better handling of variable lengths\n",
    "        lengths = attention_mask.sum(dim=1).cpu()\n",
    "        packed_input = nn.utils.rnn.pack_padded_sequence(\n",
    "            encoded, lengths, batch_first=True, enforce_sorted=False\n",
    "        )\n",
    "        _, hidden = self.rnn(packed_input)\n",
    "        \n",
    "        # Process the hidden state\n",
    "        if self.bidirectional:\n",
    "            # Concatenate the final forward and backward hidden states\n",
    "            hidden = torch.cat([hidden[-2], hidden[-1]], dim=-1)\n",
    "        else:\n",
    "            hidden = hidden[-1]\n",
    "\n",
    "        return self.classifier(hidden)"
   ]
  },
  {
   "cell_type": "markdown",
   "metadata": {},
   "source": [
    "### Model Initialization & Loss Setup\n",
    "Initializes the model, computes class weights for handling imbalance, and sets up the optimizer, loss functions (with and without label smoothing), and a learning rate scheduler with warmup steps.\n"
   ]
  },
  {
   "cell_type": "code",
   "execution_count": null,
   "metadata": {},
   "outputs": [
    {
     "name": "stdout",
     "output_type": "stream",
     "text": [
      "Class Weights: {'Politics': 1.1569209993247807, 'Sports': 0.9140570818885037, 'Media': 1.3251353441608662, 'Market & Economy': 0.8859358841778697, 'STEM': 0.8633912824389015}\n"
     ]
    }
   ],
   "source": [
    "y_train = lb.transform(data_train['Category'])\n",
    "\n",
    "# Compute class weights\n",
    "class_weights = compute_class_weight('balanced', classes=np.unique(y_train), y=y_train)\n",
    "class_weights_tensor = torch.tensor(class_weights, dtype=torch.float).to(device)\n",
    "\n",
    "print(\"Class Weights:\", dict(zip(lb.classes_, class_weights)))\n",
    "\n",
    "# Initialize model\n",
    "model = TextClassification(\n",
    "    num_heads=8,\n",
    "    num_layers=4,\n",
    "    ff_dim=2048,\n",
    "    num_classes=5,\n",
    "    hidden_size=512,\n",
    "    bidirectional=True,\n",
    "    roberta_name='roberta-base',\n",
    "    dropout_rate=0.2\n",
    ").to(device)\n",
    "\n",
    "\n",
    "# Optimizer and criterion\n",
    "optimizer = optim.AdamW(\n",
    "    filter(lambda p: p.requires_grad, model.parameters()), \n",
    "    lr=1e-4,\n",
    "    weight_decay=0.01,\n",
    "    betas=(0.9, 0.99)\n",
    ")\n",
    "\n",
    "criterion_train = nn.CrossEntropyLoss(\n",
    "    weight=class_weights_tensor,\n",
    "    label_smoothing=0.1\n",
    ")\n",
    "\n",
    "# For validation: no smoothing, maybe even no class weights\n",
    "criterion_val = nn.CrossEntropyLoss()"
   ]
  },
  {
   "cell_type": "markdown",
   "metadata": {},
   "source": [
    "### Training Loop\n",
    "Handles model training over multiple epochs with gradient accumulation, early stopping, and live metric tracking. Stores the best model checkpoint based on validation accuracy.\n"
   ]
  },
  {
   "cell_type": "code",
   "execution_count": null,
   "metadata": {},
   "outputs": [
    {
     "name": "stderr",
     "output_type": "stream",
     "text": [
      "Some weights of RobertaModel were not initialized from the model checkpoint at roberta-base and are newly initialized: ['roberta.pooler.dense.bias', 'roberta.pooler.dense.weight']\n",
      "You should probably TRAIN this model on a down-stream task to be able to use it for predictions and inference.\n"
     ]
    },
    {
     "data": {
      "application/vnd.jupyter.widget-view+json": {
       "model_id": "3b6e5119d12f4241a2b87ec66375e16f",
       "version_major": 2,
       "version_minor": 0
      },
      "text/plain": [
       "Epoch 1/50:   0%|          | 0/1071 [00:00<?, ?it/s]"
      ]
     },
     "metadata": {},
     "output_type": "display_data"
    },
    {
     "name": "stdout",
     "output_type": "stream",
     "text": [
      "Epoch 1/50\n",
      " - loss: 1.3350 - accuracy: 0.4815 - val_loss: 0.8358 - val_accuracy: 0.6968 - LR: 1.00e-05 - Time: 304.7s\n",
      "Model saved with val_accuracy: 0.6968\n"
     ]
    },
    {
     "data": {
      "application/vnd.jupyter.widget-view+json": {
       "model_id": "8d27b14268d64f65ac84f4d4a870e4c2",
       "version_major": 2,
       "version_minor": 0
      },
      "text/plain": [
       "Epoch 2/50:   0%|          | 0/1071 [00:00<?, ?it/s]"
      ]
     },
     "metadata": {},
     "output_type": "display_data"
    },
    {
     "name": "stdout",
     "output_type": "stream",
     "text": [
      "Epoch 2/50\n",
      " - loss: 1.0379 - accuracy: 0.6842 - val_loss: 0.8286 - val_accuracy: 0.6916 - LR: 2.00e-05 - Time: 323.1s\n"
     ]
    },
    {
     "data": {
      "application/vnd.jupyter.widget-view+json": {
       "model_id": "bc64afa37dbe4692a166c2d5ce94eb7d",
       "version_major": 2,
       "version_minor": 0
      },
      "text/plain": [
       "Epoch 3/50:   0%|          | 0/1071 [00:00<?, ?it/s]"
      ]
     },
     "metadata": {},
     "output_type": "display_data"
    },
    {
     "name": "stdout",
     "output_type": "stream",
     "text": [
      "Epoch 3/50\n",
      " - loss: 0.9907 - accuracy: 0.7036 - val_loss: 0.8212 - val_accuracy: 0.7141 - LR: 3.00e-05 - Time: 323.9s\n",
      "Model saved with val_accuracy: 0.7141\n"
     ]
    },
    {
     "data": {
      "application/vnd.jupyter.widget-view+json": {
       "model_id": "6561d53aa54d4f058aeeb8bd293f851d",
       "version_major": 2,
       "version_minor": 0
      },
      "text/plain": [
       "Epoch 4/50:   0%|          | 0/1071 [00:00<?, ?it/s]"
      ]
     },
     "metadata": {},
     "output_type": "display_data"
    },
    {
     "name": "stdout",
     "output_type": "stream",
     "text": [
      "Epoch 4/50\n",
      " - loss: 0.9745 - accuracy: 0.7141 - val_loss: 0.8758 - val_accuracy: 0.6898 - LR: 4.00e-05 - Time: 323.4s\n"
     ]
    },
    {
     "data": {
      "application/vnd.jupyter.widget-view+json": {
       "model_id": "13a5515d101a4aa187df82e4a71e1176",
       "version_major": 2,
       "version_minor": 0
      },
      "text/plain": [
       "Epoch 5/50:   0%|          | 0/1071 [00:00<?, ?it/s]"
      ]
     },
     "metadata": {},
     "output_type": "display_data"
    },
    {
     "name": "stdout",
     "output_type": "stream",
     "text": [
      "Epoch 5/50\n",
      " - loss: 0.9633 - accuracy: 0.7193 - val_loss: 0.8573 - val_accuracy: 0.7124 - LR: 5.00e-05 - Time: 340.6s\n"
     ]
    },
    {
     "data": {
      "application/vnd.jupyter.widget-view+json": {
       "model_id": "c34fde5c604f48a9b06a2e7a4525358b",
       "version_major": 2,
       "version_minor": 0
      },
      "text/plain": [
       "Epoch 6/50:   0%|          | 0/1071 [00:00<?, ?it/s]"
      ]
     },
     "metadata": {},
     "output_type": "display_data"
    },
    {
     "name": "stdout",
     "output_type": "stream",
     "text": [
      "Epoch 6/50\n",
      " - loss: 0.9510 - accuracy: 0.7278 - val_loss: 0.7978 - val_accuracy: 0.7208 - LR: 6.01e-05 - Time: 322.7s\n",
      "Model saved with val_accuracy: 0.7208\n"
     ]
    },
    {
     "data": {
      "application/vnd.jupyter.widget-view+json": {
       "model_id": "5bd28a0c77234fe5a1c1bb78d47fd2a4",
       "version_major": 2,
       "version_minor": 0
      },
      "text/plain": [
       "Epoch 7/50:   0%|          | 0/1071 [00:00<?, ?it/s]"
      ]
     },
     "metadata": {},
     "output_type": "display_data"
    },
    {
     "name": "stdout",
     "output_type": "stream",
     "text": [
      "Epoch 7/50\n",
      " - loss: 0.9465 - accuracy: 0.7287 - val_loss: 0.7906 - val_accuracy: 0.7439 - LR: 7.01e-05 - Time: 323.5s\n",
      "Model saved with val_accuracy: 0.7439\n"
     ]
    },
    {
     "data": {
      "application/vnd.jupyter.widget-view+json": {
       "model_id": "b8b214a335064bea8695588e05143a65",
       "version_major": 2,
       "version_minor": 0
      },
      "text/plain": [
       "Epoch 8/50:   0%|          | 0/1071 [00:00<?, ?it/s]"
      ]
     },
     "metadata": {},
     "output_type": "display_data"
    },
    {
     "name": "stdout",
     "output_type": "stream",
     "text": [
      "Epoch 8/50\n",
      " - loss: 0.9356 - accuracy: 0.7365 - val_loss: 0.7534 - val_accuracy: 0.7409 - LR: 8.01e-05 - Time: 323.4s\n"
     ]
    },
    {
     "data": {
      "application/vnd.jupyter.widget-view+json": {
       "model_id": "a11a9477e79740bca2b0e660491ac55d",
       "version_major": 2,
       "version_minor": 0
      },
      "text/plain": [
       "Epoch 9/50:   0%|          | 0/1071 [00:00<?, ?it/s]"
      ]
     },
     "metadata": {},
     "output_type": "display_data"
    },
    {
     "name": "stdout",
     "output_type": "stream",
     "text": [
      "Epoch 9/50\n",
      " - loss: 0.9256 - accuracy: 0.7392 - val_loss: 0.7509 - val_accuracy: 0.7509 - LR: 9.01e-05 - Time: 322.8s\n",
      "Model saved with val_accuracy: 0.7509\n"
     ]
    },
    {
     "data": {
      "application/vnd.jupyter.widget-view+json": {
       "model_id": "389bf46e74284aa797d5c3c62b6d7d54",
       "version_major": 2,
       "version_minor": 0
      },
      "text/plain": [
       "Epoch 10/50:   0%|          | 0/1071 [00:00<?, ?it/s]"
      ]
     },
     "metadata": {},
     "output_type": "display_data"
    },
    {
     "name": "stdout",
     "output_type": "stream",
     "text": [
      "Epoch 10/50\n",
      " - loss: 0.9180 - accuracy: 0.7458 - val_loss: 0.7200 - val_accuracy: 0.7528 - LR: 1.00e-04 - Time: 323.6s\n",
      "Model saved with val_accuracy: 0.7528\n"
     ]
    },
    {
     "data": {
      "application/vnd.jupyter.widget-view+json": {
       "model_id": "bb6b624107f54cd9a795ca8b567def45",
       "version_major": 2,
       "version_minor": 0
      },
      "text/plain": [
       "Epoch 11/50:   0%|          | 0/1071 [00:00<?, ?it/s]"
      ]
     },
     "metadata": {},
     "output_type": "display_data"
    },
    {
     "name": "stdout",
     "output_type": "stream",
     "text": [
      "Epoch 11/50\n",
      " - loss: 0.9092 - accuracy: 0.7524 - val_loss: 0.7024 - val_accuracy: 0.7612 - LR: 9.89e-05 - Time: 324.2s\n",
      "Model saved with val_accuracy: 0.7612\n"
     ]
    },
    {
     "data": {
      "application/vnd.jupyter.widget-view+json": {
       "model_id": "9a1132be45bb45c0acc9b9120c6cd6c4",
       "version_major": 2,
       "version_minor": 0
      },
      "text/plain": [
       "Epoch 12/50:   0%|          | 0/1071 [00:00<?, ?it/s]"
      ]
     },
     "metadata": {},
     "output_type": "display_data"
    },
    {
     "name": "stdout",
     "output_type": "stream",
     "text": [
      "Epoch 12/50\n",
      " - loss: 0.8976 - accuracy: 0.7562 - val_loss: 0.7043 - val_accuracy: 0.7605 - LR: 9.78e-05 - Time: 324.7s\n"
     ]
    },
    {
     "data": {
      "application/vnd.jupyter.widget-view+json": {
       "model_id": "bcdb11d473bd4002a200828d027c1d31",
       "version_major": 2,
       "version_minor": 0
      },
      "text/plain": [
       "Epoch 13/50:   0%|          | 0/1071 [00:00<?, ?it/s]"
      ]
     },
     "metadata": {},
     "output_type": "display_data"
    },
    {
     "name": "stdout",
     "output_type": "stream",
     "text": [
      "Epoch 13/50\n",
      " - loss: 0.8921 - accuracy: 0.7570 - val_loss: 0.7080 - val_accuracy: 0.7509 - LR: 9.67e-05 - Time: 325.3s\n"
     ]
    },
    {
     "data": {
      "application/vnd.jupyter.widget-view+json": {
       "model_id": "65c02667c89246b5aad53dc0e09112b6",
       "version_major": 2,
       "version_minor": 0
      },
      "text/plain": [
       "Epoch 14/50:   0%|          | 0/1071 [00:00<?, ?it/s]"
      ]
     },
     "metadata": {},
     "output_type": "display_data"
    },
    {
     "name": "stdout",
     "output_type": "stream",
     "text": [
      "Epoch 14/50\n",
      " - loss: 0.8843 - accuracy: 0.7619 - val_loss: 0.6952 - val_accuracy: 0.7635 - LR: 9.55e-05 - Time: 323.0s\n",
      "Model saved with val_accuracy: 0.7635\n"
     ]
    },
    {
     "data": {
      "application/vnd.jupyter.widget-view+json": {
       "model_id": "093b65d0cfb84a78b2a2ec4bb5f7ded1",
       "version_major": 2,
       "version_minor": 0
      },
      "text/plain": [
       "Epoch 15/50:   0%|          | 0/1071 [00:00<?, ?it/s]"
      ]
     },
     "metadata": {},
     "output_type": "display_data"
    },
    {
     "name": "stdout",
     "output_type": "stream",
     "text": [
      "Epoch 15/50\n",
      " - loss: 0.8755 - accuracy: 0.7649 - val_loss: 0.6954 - val_accuracy: 0.7659 - LR: 9.44e-05 - Time: 322.5s\n",
      "Model saved with val_accuracy: 0.7659\n"
     ]
    },
    {
     "data": {
      "application/vnd.jupyter.widget-view+json": {
       "model_id": "bea2890b2a1248f6ae5318253b5b6963",
       "version_major": 2,
       "version_minor": 0
      },
      "text/plain": [
       "Epoch 16/50:   0%|          | 0/1071 [00:00<?, ?it/s]"
      ]
     },
     "metadata": {},
     "output_type": "display_data"
    },
    {
     "name": "stdout",
     "output_type": "stream",
     "text": [
      "Epoch 16/50\n",
      " - loss: 0.8707 - accuracy: 0.7677 - val_loss: 0.6936 - val_accuracy: 0.7621 - LR: 9.33e-05 - Time: 323.7s\n"
     ]
    },
    {
     "data": {
      "application/vnd.jupyter.widget-view+json": {
       "model_id": "ebc5de785d3443c79b3c6984f3715bed",
       "version_major": 2,
       "version_minor": 0
      },
      "text/plain": [
       "Epoch 17/50:   0%|          | 0/1071 [00:00<?, ?it/s]"
      ]
     },
     "metadata": {},
     "output_type": "display_data"
    },
    {
     "name": "stdout",
     "output_type": "stream",
     "text": [
      "Epoch 17/50\n",
      " - loss: 0.8613 - accuracy: 0.7698 - val_loss: 0.6817 - val_accuracy: 0.7673 - LR: 9.22e-05 - Time: 323.4s\n",
      "Model saved with val_accuracy: 0.7673\n"
     ]
    },
    {
     "data": {
      "application/vnd.jupyter.widget-view+json": {
       "model_id": "82a229d615794a94a2c3a945ab43185c",
       "version_major": 2,
       "version_minor": 0
      },
      "text/plain": [
       "Epoch 18/50:   0%|          | 0/1071 [00:00<?, ?it/s]"
      ]
     },
     "metadata": {},
     "output_type": "display_data"
    },
    {
     "name": "stdout",
     "output_type": "stream",
     "text": [
      "Epoch 18/50\n",
      " - loss: 0.8558 - accuracy: 0.7744 - val_loss: 0.6943 - val_accuracy: 0.7666 - LR: 9.11e-05 - Time: 322.2s\n"
     ]
    },
    {
     "data": {
      "application/vnd.jupyter.widget-view+json": {
       "model_id": "ff14b3ea1c2b47b1a74723ab254068d1",
       "version_major": 2,
       "version_minor": 0
      },
      "text/plain": [
       "Epoch 19/50:   0%|          | 0/1071 [00:00<?, ?it/s]"
      ]
     },
     "metadata": {},
     "output_type": "display_data"
    },
    {
     "name": "stdout",
     "output_type": "stream",
     "text": [
      "Epoch 19/50\n",
      " - loss: 0.8491 - accuracy: 0.7784 - val_loss: 0.6964 - val_accuracy: 0.7621 - LR: 9.00e-05 - Time: 322.6s\n"
     ]
    },
    {
     "data": {
      "application/vnd.jupyter.widget-view+json": {
       "model_id": "0706e0335c8b415cba09e944bf1eeae0",
       "version_major": 2,
       "version_minor": 0
      },
      "text/plain": [
       "Epoch 20/50:   0%|          | 0/1071 [00:00<?, ?it/s]"
      ]
     },
     "metadata": {},
     "output_type": "display_data"
    },
    {
     "name": "stdout",
     "output_type": "stream",
     "text": [
      "Epoch 20/50\n",
      " - loss: 0.8450 - accuracy: 0.7771 - val_loss: 0.6958 - val_accuracy: 0.7624 - LR: 8.89e-05 - Time: 323.3s\n"
     ]
    },
    {
     "data": {
      "application/vnd.jupyter.widget-view+json": {
       "model_id": "e178cb11fefa4f44b574eaa8d7fc597e",
       "version_major": 2,
       "version_minor": 0
      },
      "text/plain": [
       "Epoch 21/50:   0%|          | 0/1071 [00:00<?, ?it/s]"
      ]
     },
     "metadata": {},
     "output_type": "display_data"
    },
    {
     "name": "stdout",
     "output_type": "stream",
     "text": [
      "Epoch 21/50\n",
      " - loss: 0.8421 - accuracy: 0.7818 - val_loss: 0.7112 - val_accuracy: 0.7654 - LR: 8.78e-05 - Time: 323.6s\n"
     ]
    },
    {
     "data": {
      "application/vnd.jupyter.widget-view+json": {
       "model_id": "46d63278eae64cf48b7be213a6f91433",
       "version_major": 2,
       "version_minor": 0
      },
      "text/plain": [
       "Epoch 22/50:   0%|          | 0/1071 [00:00<?, ?it/s]"
      ]
     },
     "metadata": {},
     "output_type": "display_data"
    },
    {
     "name": "stdout",
     "output_type": "stream",
     "text": [
      "Epoch 22/50\n",
      " - loss: 0.8332 - accuracy: 0.7836 - val_loss: 0.6986 - val_accuracy: 0.7715 - LR: 8.66e-05 - Time: 323.7s\n",
      "Model saved with val_accuracy: 0.7715\n"
     ]
    },
    {
     "data": {
      "application/vnd.jupyter.widget-view+json": {
       "model_id": "058960decfc14fe7af252988021e7025",
       "version_major": 2,
       "version_minor": 0
      },
      "text/plain": [
       "Epoch 23/50:   0%|          | 0/1071 [00:00<?, ?it/s]"
      ]
     },
     "metadata": {},
     "output_type": "display_data"
    },
    {
     "name": "stdout",
     "output_type": "stream",
     "text": [
      "Epoch 23/50\n",
      " - loss: 0.8272 - accuracy: 0.7872 - val_loss: 0.7079 - val_accuracy: 0.7645 - LR: 8.55e-05 - Time: 323.1s\n"
     ]
    },
    {
     "data": {
      "application/vnd.jupyter.widget-view+json": {
       "model_id": "630139542c7a45f0817dc6200bfd6076",
       "version_major": 2,
       "version_minor": 0
      },
      "text/plain": [
       "Epoch 24/50:   0%|          | 0/1071 [00:00<?, ?it/s]"
      ]
     },
     "metadata": {},
     "output_type": "display_data"
    },
    {
     "name": "stdout",
     "output_type": "stream",
     "text": [
      "Epoch 24/50\n",
      " - loss: 0.8218 - accuracy: 0.7893 - val_loss: 0.6872 - val_accuracy: 0.7647 - LR: 8.44e-05 - Time: 323.1s\n"
     ]
    },
    {
     "data": {
      "application/vnd.jupyter.widget-view+json": {
       "model_id": "0e4a90e6be7e4b18b341239d59c3198f",
       "version_major": 2,
       "version_minor": 0
      },
      "text/plain": [
       "Epoch 25/50:   0%|          | 0/1071 [00:00<?, ?it/s]"
      ]
     },
     "metadata": {},
     "output_type": "display_data"
    },
    {
     "name": "stdout",
     "output_type": "stream",
     "text": [
      "Epoch 25/50\n",
      " - loss: 0.8197 - accuracy: 0.7927 - val_loss: 0.6985 - val_accuracy: 0.7633 - LR: 8.33e-05 - Time: 323.1s\n"
     ]
    },
    {
     "data": {
      "application/vnd.jupyter.widget-view+json": {
       "model_id": "fe9ae98544db4034a9dd2f8cb036b2a8",
       "version_major": 2,
       "version_minor": 0
      },
      "text/plain": [
       "Epoch 26/50:   0%|          | 0/1071 [00:00<?, ?it/s]"
      ]
     },
     "metadata": {},
     "output_type": "display_data"
    },
    {
     "name": "stdout",
     "output_type": "stream",
     "text": [
      "Epoch 26/50\n",
      " - loss: 0.8100 - accuracy: 0.7961 - val_loss: 0.6908 - val_accuracy: 0.7668 - LR: 8.22e-05 - Time: 323.4s\n"
     ]
    },
    {
     "data": {
      "application/vnd.jupyter.widget-view+json": {
       "model_id": "8cdc2fd3794a47dfbabd3482c0256042",
       "version_major": 2,
       "version_minor": 0
      },
      "text/plain": [
       "Epoch 27/50:   0%|          | 0/1071 [00:00<?, ?it/s]"
      ]
     },
     "metadata": {},
     "output_type": "display_data"
    },
    {
     "name": "stdout",
     "output_type": "stream",
     "text": [
      "Epoch 27/50\n",
      " - loss: 0.8033 - accuracy: 0.7993 - val_loss: 0.7062 - val_accuracy: 0.7586 - LR: 8.11e-05 - Time: 323.1s\n"
     ]
    },
    {
     "data": {
      "application/vnd.jupyter.widget-view+json": {
       "model_id": "940264b984174421bb4a0936a2839acf",
       "version_major": 2,
       "version_minor": 0
      },
      "text/plain": [
       "Epoch 28/50:   0%|          | 0/1071 [00:00<?, ?it/s]"
      ]
     },
     "metadata": {},
     "output_type": "display_data"
    },
    {
     "name": "stdout",
     "output_type": "stream",
     "text": [
      "Epoch 28/50\n",
      " - loss: 0.8009 - accuracy: 0.7996 - val_loss: 0.6986 - val_accuracy: 0.7666 - LR: 8.00e-05 - Time: 322.9s\n"
     ]
    },
    {
     "data": {
      "application/vnd.jupyter.widget-view+json": {
       "model_id": "f0dca7279f3548998ee703d97f1ff322",
       "version_major": 2,
       "version_minor": 0
      },
      "text/plain": [
       "Epoch 29/50:   0%|          | 0/1071 [00:00<?, ?it/s]"
      ]
     },
     "metadata": {},
     "output_type": "display_data"
    },
    {
     "name": "stdout",
     "output_type": "stream",
     "text": [
      "Epoch 29/50\n",
      " - loss: 0.7992 - accuracy: 0.8044 - val_loss: 0.7084 - val_accuracy: 0.7584 - LR: 7.89e-05 - Time: 323.0s\n"
     ]
    },
    {
     "data": {
      "application/vnd.jupyter.widget-view+json": {
       "model_id": "5165c6c1736143a897f4540ade280cd5",
       "version_major": 2,
       "version_minor": 0
      },
      "text/plain": [
       "Epoch 30/50:   0%|          | 0/1071 [00:00<?, ?it/s]"
      ]
     },
     "metadata": {},
     "output_type": "display_data"
    },
    {
     "name": "stdout",
     "output_type": "stream",
     "text": [
      "Epoch 30/50\n",
      " - loss: 0.7920 - accuracy: 0.8090 - val_loss: 0.7114 - val_accuracy: 0.7586 - LR: 7.77e-05 - Time: 325.4s\n"
     ]
    },
    {
     "data": {
      "application/vnd.jupyter.widget-view+json": {
       "model_id": "c5a14ab43ed94663925dff94b9d1c325",
       "version_major": 2,
       "version_minor": 0
      },
      "text/plain": [
       "Epoch 31/50:   0%|          | 0/1071 [00:00<?, ?it/s]"
      ]
     },
     "metadata": {},
     "output_type": "display_data"
    },
    {
     "name": "stdout",
     "output_type": "stream",
     "text": [
      "Epoch 31/50\n",
      " - loss: 0.7848 - accuracy: 0.8112 - val_loss: 0.7148 - val_accuracy: 0.7635 - LR: 7.66e-05 - Time: 324.2s\n"
     ]
    },
    {
     "data": {
      "application/vnd.jupyter.widget-view+json": {
       "model_id": "64394f37e7f74d149b12868a6fab507d",
       "version_major": 2,
       "version_minor": 0
      },
      "text/plain": [
       "Epoch 32/50:   0%|          | 0/1071 [00:00<?, ?it/s]"
      ]
     },
     "metadata": {},
     "output_type": "display_data"
    },
    {
     "name": "stdout",
     "output_type": "stream",
     "text": [
      "Epoch 32/50\n",
      " - loss: 0.7868 - accuracy: 0.8094 - val_loss: 0.7134 - val_accuracy: 0.7640 - LR: 7.55e-05 - Time: 323.8s\n",
      "\n",
      "Early stopping at epoch 32, best val accuracy: 0.7715\n",
      "Training completed.\n"
     ]
    }
   ],
   "source": [
    "\n",
    "epochs = 50\n",
    "\n",
    "from transformers import get_linear_schedule_with_warmup\n",
    "\n",
    "total_steps = len(train_loader) * epochs\n",
    "warmup_steps = int(total_steps * 0.1)  \n",
    "\n",
    "scheduler = get_linear_schedule_with_warmup(\n",
    "    optimizer, \n",
    "    num_warmup_steps=warmup_steps,\n",
    "    num_training_steps=total_steps\n",
    ")\n",
    "\n",
    "# Metrics\n",
    "train_acc_metric = Accuracy(task=\"multiclass\", num_classes=5).to(device)\n",
    "val_acc_metric = Accuracy(task=\"multiclass\", num_classes=5).to(device)\n",
    "\n",
    "# Early stopping\n",
    "patience = 10\n",
    "no_improve = 0\n",
    "best_val_acc = 0.0\n",
    "\n",
    "\n",
    "grad_accum_steps = 2  # Accumulate gradients for effective larger batch size\n",
    "\n",
    "total_losses_train = []\n",
    "total_losses_val = []\n",
    "\n",
    "for epoch in range(epochs):\n",
    "    model.train()\n",
    "    train_acc_metric.reset()\n",
    "    total_loss = 0.0\n",
    "    start_time = time.time()\n",
    "\n",
    "    progress_bar = tqdm(train_loader, desc=f\"Epoch {epoch + 1}/{epochs}\", leave=False)\n",
    "\n",
    "    optimizer.zero_grad(set_to_none=True)  # Reset gradients at start of epoch\n",
    "    \n",
    "    for step, (ids, mask, label) in enumerate(progress_bar):\n",
    "        ids, mask, label = ids.to(device), mask.to(device), label.to(device)\n",
    "\n",
    "        output = model(ids, mask)\n",
    "        loss_train = criterion_train(output, label) / grad_accum_steps  # Scale loss for gradient accumulation\n",
    "\n",
    "        loss_train.backward()\n",
    "        \n",
    "        if (step + 1) % grad_accum_steps == 0 or (step + 1) == len(train_loader):\n",
    "            torch.nn.utils.clip_grad_norm_(model.parameters(), 1.0)  \n",
    "            optimizer.step()\n",
    "            scheduler.step()  # Update learning rate per step\n",
    "            optimizer.zero_grad(set_to_none=True)\n",
    "\n",
    "        # Update metrics (use the unscaled loss)\n",
    "        total_loss += loss_train.item() * grad_accum_steps\n",
    "        _, preds = torch.max(output, dim=1)\n",
    "        train_acc_metric.update(preds, label)\n",
    "\n",
    "        # Logging\n",
    "        current_lr = optimizer.param_groups[0]['lr']\n",
    "        train_acc = train_acc_metric.compute().item()\n",
    "        progress_bar.set_postfix(\n",
    "            accuracy=f\"{train_acc:.4f}\",\n",
    "            lr=f\"{current_lr:.2e}\"\n",
    "        )\n",
    "\n",
    "    avg_train_loss = total_loss / len(train_loader)\n",
    "    train_acc = train_acc_metric.compute().item()\n",
    "\n",
    "    # Validation phase\n",
    "    model.eval()\n",
    "    val_acc_metric.reset()\n",
    "    total_val_loss = 0.0\n",
    "\n",
    "    with torch.no_grad():\n",
    "        for ids, mask, label in val_loader:\n",
    "            ids, mask, label = ids.to(device), mask.to(device), label.to(device)\n",
    "\n",
    "            output = model(ids, mask)\n",
    "            loss_val = criterion_val(output, label)\n",
    "\n",
    "            total_val_loss += loss_val.item()\n",
    "            _, preds = torch.max(output, dim=1)\n",
    "            val_acc_metric.update(preds, label)\n",
    "\n",
    "    avg_val_loss = total_val_loss / len(val_loader)\n",
    "    val_acc = val_acc_metric.compute().item()\n",
    "\n",
    "    # Timing and final log\n",
    "    epoch_time = time.time() - start_time\n",
    "\n",
    "    print(f\"Epoch {epoch + 1}/{epochs}\")\n",
    "    print(f\" - loss: {avg_train_loss:.4f} - accuracy: {train_acc:.4f}\"\n",
    "          f\" - val_loss: {avg_val_loss:.4f} - val_accuracy: {val_acc:.4f}\"\n",
    "          f\" - LR: {optimizer.param_groups[0]['lr']:.2e} - Time: {epoch_time:.1f}s\")\n",
    "\n",
    "    total_losses_train.append(avg_train_loss)\n",
    "    total_losses_val.append(avg_val_loss)\n",
    "\n",
    "    # Early stopping and model saving\n",
    "    if val_acc > best_val_acc:\n",
    "        best_val_acc = val_acc\n",
    "        no_improve = 0\n",
    "        torch.save({\n",
    "            'epoch': epoch,\n",
    "            'model_state_dict': model.state_dict(),\n",
    "            'optimizer_state_dict': optimizer.state_dict(),\n",
    "            'scheduler_state_dict': scheduler.state_dict(),\n",
    "            'val_acc': val_acc,\n",
    "            'train_acc': train_acc,\n",
    "        }, 'best_model.pth')\n",
    "        print(f\"Model saved with val_accuracy: {val_acc:.4f}\")\n",
    "    else:\n",
    "        no_improve += 1\n",
    "        if no_improve >= patience:\n",
    "            print(f\"\\nEarly stopping at epoch {epoch + 1}, best val accuracy: {best_val_acc:.4f}\")\n",
    "            break\n",
    "\n",
    "print(\"Training completed.\")"
   ]
  },
  {
   "cell_type": "markdown",
   "metadata": {},
   "source": [
    "### Training Visualization\n",
    "Plots training and validation loss curves across epochs using Seaborn, giving insight into the model’s learning progress and helping to detect overfitting or underfitting.\n"
   ]
  },
  {
   "cell_type": "code",
   "execution_count": 31,
   "metadata": {},
   "outputs": [
    {
     "data": {
      "text/html": [
       "<div>\n",
       "<style scoped>\n",
       "    .dataframe tbody tr th:only-of-type {\n",
       "        vertical-align: middle;\n",
       "    }\n",
       "\n",
       "    .dataframe tbody tr th {\n",
       "        vertical-align: top;\n",
       "    }\n",
       "\n",
       "    .dataframe thead th {\n",
       "        text-align: right;\n",
       "    }\n",
       "</style>\n",
       "<table border=\"1\" class=\"dataframe\">\n",
       "  <thead>\n",
       "    <tr style=\"text-align: right;\">\n",
       "      <th></th>\n",
       "      <th>Train</th>\n",
       "      <th>Validation</th>\n",
       "      <th>Epoch</th>\n",
       "    </tr>\n",
       "  </thead>\n",
       "  <tbody>\n",
       "    <tr>\n",
       "      <th>0</th>\n",
       "      <td>1.334995</td>\n",
       "      <td>0.835795</td>\n",
       "      <td>0</td>\n",
       "    </tr>\n",
       "    <tr>\n",
       "      <th>1</th>\n",
       "      <td>1.037895</td>\n",
       "      <td>0.828615</td>\n",
       "      <td>1</td>\n",
       "    </tr>\n",
       "    <tr>\n",
       "      <th>2</th>\n",
       "      <td>0.990666</td>\n",
       "      <td>0.821247</td>\n",
       "      <td>2</td>\n",
       "    </tr>\n",
       "    <tr>\n",
       "      <th>3</th>\n",
       "      <td>0.974508</td>\n",
       "      <td>0.875789</td>\n",
       "      <td>3</td>\n",
       "    </tr>\n",
       "    <tr>\n",
       "      <th>4</th>\n",
       "      <td>0.963271</td>\n",
       "      <td>0.857334</td>\n",
       "      <td>4</td>\n",
       "    </tr>\n",
       "    <tr>\n",
       "      <th>5</th>\n",
       "      <td>0.950978</td>\n",
       "      <td>0.797801</td>\n",
       "      <td>5</td>\n",
       "    </tr>\n",
       "    <tr>\n",
       "      <th>6</th>\n",
       "      <td>0.946458</td>\n",
       "      <td>0.790566</td>\n",
       "      <td>6</td>\n",
       "    </tr>\n",
       "    <tr>\n",
       "      <th>7</th>\n",
       "      <td>0.935597</td>\n",
       "      <td>0.753403</td>\n",
       "      <td>7</td>\n",
       "    </tr>\n",
       "    <tr>\n",
       "      <th>8</th>\n",
       "      <td>0.925635</td>\n",
       "      <td>0.750932</td>\n",
       "      <td>8</td>\n",
       "    </tr>\n",
       "    <tr>\n",
       "      <th>9</th>\n",
       "      <td>0.918024</td>\n",
       "      <td>0.720016</td>\n",
       "      <td>9</td>\n",
       "    </tr>\n",
       "    <tr>\n",
       "      <th>10</th>\n",
       "      <td>0.909229</td>\n",
       "      <td>0.702389</td>\n",
       "      <td>10</td>\n",
       "    </tr>\n",
       "    <tr>\n",
       "      <th>11</th>\n",
       "      <td>0.897616</td>\n",
       "      <td>0.704343</td>\n",
       "      <td>11</td>\n",
       "    </tr>\n",
       "    <tr>\n",
       "      <th>12</th>\n",
       "      <td>0.892101</td>\n",
       "      <td>0.707954</td>\n",
       "      <td>12</td>\n",
       "    </tr>\n",
       "    <tr>\n",
       "      <th>13</th>\n",
       "      <td>0.884282</td>\n",
       "      <td>0.695161</td>\n",
       "      <td>13</td>\n",
       "    </tr>\n",
       "    <tr>\n",
       "      <th>14</th>\n",
       "      <td>0.875526</td>\n",
       "      <td>0.695355</td>\n",
       "      <td>14</td>\n",
       "    </tr>\n",
       "    <tr>\n",
       "      <th>15</th>\n",
       "      <td>0.870732</td>\n",
       "      <td>0.693640</td>\n",
       "      <td>15</td>\n",
       "    </tr>\n",
       "    <tr>\n",
       "      <th>16</th>\n",
       "      <td>0.861257</td>\n",
       "      <td>0.681689</td>\n",
       "      <td>16</td>\n",
       "    </tr>\n",
       "    <tr>\n",
       "      <th>17</th>\n",
       "      <td>0.855764</td>\n",
       "      <td>0.694334</td>\n",
       "      <td>17</td>\n",
       "    </tr>\n",
       "    <tr>\n",
       "      <th>18</th>\n",
       "      <td>0.849107</td>\n",
       "      <td>0.696439</td>\n",
       "      <td>18</td>\n",
       "    </tr>\n",
       "    <tr>\n",
       "      <th>19</th>\n",
       "      <td>0.844998</td>\n",
       "      <td>0.695828</td>\n",
       "      <td>19</td>\n",
       "    </tr>\n",
       "    <tr>\n",
       "      <th>20</th>\n",
       "      <td>0.842128</td>\n",
       "      <td>0.711211</td>\n",
       "      <td>20</td>\n",
       "    </tr>\n",
       "    <tr>\n",
       "      <th>21</th>\n",
       "      <td>0.833221</td>\n",
       "      <td>0.698611</td>\n",
       "      <td>21</td>\n",
       "    </tr>\n",
       "    <tr>\n",
       "      <th>22</th>\n",
       "      <td>0.827177</td>\n",
       "      <td>0.707914</td>\n",
       "      <td>22</td>\n",
       "    </tr>\n",
       "    <tr>\n",
       "      <th>23</th>\n",
       "      <td>0.821763</td>\n",
       "      <td>0.687150</td>\n",
       "      <td>23</td>\n",
       "    </tr>\n",
       "    <tr>\n",
       "      <th>24</th>\n",
       "      <td>0.819727</td>\n",
       "      <td>0.698506</td>\n",
       "      <td>24</td>\n",
       "    </tr>\n",
       "    <tr>\n",
       "      <th>25</th>\n",
       "      <td>0.809966</td>\n",
       "      <td>0.690844</td>\n",
       "      <td>25</td>\n",
       "    </tr>\n",
       "    <tr>\n",
       "      <th>26</th>\n",
       "      <td>0.803273</td>\n",
       "      <td>0.706210</td>\n",
       "      <td>26</td>\n",
       "    </tr>\n",
       "    <tr>\n",
       "      <th>27</th>\n",
       "      <td>0.800864</td>\n",
       "      <td>0.698571</td>\n",
       "      <td>27</td>\n",
       "    </tr>\n",
       "    <tr>\n",
       "      <th>28</th>\n",
       "      <td>0.799156</td>\n",
       "      <td>0.708375</td>\n",
       "      <td>28</td>\n",
       "    </tr>\n",
       "    <tr>\n",
       "      <th>29</th>\n",
       "      <td>0.791990</td>\n",
       "      <td>0.711406</td>\n",
       "      <td>29</td>\n",
       "    </tr>\n",
       "    <tr>\n",
       "      <th>30</th>\n",
       "      <td>0.784781</td>\n",
       "      <td>0.714752</td>\n",
       "      <td>30</td>\n",
       "    </tr>\n",
       "    <tr>\n",
       "      <th>31</th>\n",
       "      <td>0.786817</td>\n",
       "      <td>0.713444</td>\n",
       "      <td>31</td>\n",
       "    </tr>\n",
       "  </tbody>\n",
       "</table>\n",
       "</div>"
      ],
      "text/plain": [
       "       Train  Validation  Epoch\n",
       "0   1.334995    0.835795      0\n",
       "1   1.037895    0.828615      1\n",
       "2   0.990666    0.821247      2\n",
       "3   0.974508    0.875789      3\n",
       "4   0.963271    0.857334      4\n",
       "5   0.950978    0.797801      5\n",
       "6   0.946458    0.790566      6\n",
       "7   0.935597    0.753403      7\n",
       "8   0.925635    0.750932      8\n",
       "9   0.918024    0.720016      9\n",
       "10  0.909229    0.702389     10\n",
       "11  0.897616    0.704343     11\n",
       "12  0.892101    0.707954     12\n",
       "13  0.884282    0.695161     13\n",
       "14  0.875526    0.695355     14\n",
       "15  0.870732    0.693640     15\n",
       "16  0.861257    0.681689     16\n",
       "17  0.855764    0.694334     17\n",
       "18  0.849107    0.696439     18\n",
       "19  0.844998    0.695828     19\n",
       "20  0.842128    0.711211     20\n",
       "21  0.833221    0.698611     21\n",
       "22  0.827177    0.707914     22\n",
       "23  0.821763    0.687150     23\n",
       "24  0.819727    0.698506     24\n",
       "25  0.809966    0.690844     25\n",
       "26  0.803273    0.706210     26\n",
       "27  0.800864    0.698571     27\n",
       "28  0.799156    0.708375     28\n",
       "29  0.791990    0.711406     29\n",
       "30  0.784781    0.714752     30\n",
       "31  0.786817    0.713444     31"
      ]
     },
     "execution_count": 31,
     "metadata": {},
     "output_type": "execute_result"
    }
   ],
   "source": [
    "losses = pd.DataFrame([total_losses_train, total_losses_val])\n",
    "losses_long = losses.T  # Transpose so each epoch is a row\n",
    "losses_long.columns = ['Train', 'Validation']\n",
    "losses_long['Epoch'] = losses_long.index\n",
    "losses_long"
   ]
  },
  {
   "cell_type": "code",
   "execution_count": 35,
   "metadata": {},
   "outputs": [
    {
     "data": {
      "image/png": "[encoded data removed]",
      "text/plain": [
       "<Figure size 1000x600 with 1 Axes>"
      ]
     },
     "metadata": {},
     "output_type": "display_data"
    }
   ],
   "source": [
    "losses_melted = losses_long.melt(id_vars='Epoch', value_vars=['Train', 'Validation'],\n",
    "                                 var_name='Split', value_name='Loss')\n",
    "\n",
    "# Plot\n",
    "sns.set(style='whitegrid')\n",
    "plt.figure(figsize=(10, 6))\n",
    "fig = plt.gcf()\n",
    "fig.set_facecolor(\"#212946\")\n",
    "\n",
    "sns.lineplot(data=losses_melted, x='Epoch', y='Loss', hue='Split', marker='o')\n",
    "ax = plt.gca()\n",
    "ax.grid(color='#2A3459')\n",
    "ax.set_facecolor('#212946') \n",
    "sns.despine(left=True, bottom=True)\n",
    "plt.title('Training and Validation Loss over Epochs', fontsize=23, color='white', y=1.05)\n",
    "legend = plt.legend( frameon=False)\n",
    "for text in legend.get_texts():\n",
    "    text.set_color(\"white\")\n",
    "plt.xlabel('Epoch', fontsize=12, color='white')\n",
    "plt.xticks(fontsize=10, color='white')\n",
    "plt.ylabel('Loss',fontsize=12, color='white')\n",
    "plt.yticks(fontsize=10, color='white')\n",
    "plt.show()"
   ]
  },
  {
   "cell_type": "markdown",
   "metadata": {},
   "source": [
    "### Model Evaluation\n",
    "Loads the best-performing model and evaluates it on the validation set using accuracy, macro F1 score, and a confusion matrix for multi-class performance analysis.\n"
   ]
  },
  {
   "cell_type": "code",
   "execution_count": null,
   "metadata": {},
   "outputs": [
    {
     "name": "stderr",
     "output_type": "stream",
     "text": [
      "Some weights of RobertaModel were not initialized from the model checkpoint at roberta-base and are newly initialized: ['roberta.pooler.dense.bias', 'roberta.pooler.dense.weight']\n",
      "You should probably TRAIN this model on a down-stream task to be able to use it for predictions and inference.\n"
     ]
    },
    {
     "data": {
      "text/plain": [
       "<All keys matched successfully>"
      ]
     },
     "execution_count": 40,
     "metadata": {},
     "output_type": "execute_result"
    }
   ],
   "source": [
    "model_test = TextClassification(\n",
    "    num_heads=8,\n",
    "    num_layers=4,\n",
    "    ff_dim=2048,\n",
    "    num_classes=5,\n",
    "    hidden_size=512,\n",
    "    bidirectional=True,\n",
    "    roberta_name='roberta-base',\n",
    "    dropout_rate=0.2\n",
    ").to(device)\n",
    "checkpoint  = torch.load(\"best_model.pth\", map_location=device)\n",
    "model_test.load_state_dict(checkpoint['model_state_dict'], strict=False)  # `strict=False` allows partial loading\n"
   ]
  },
  {
   "cell_type": "code",
   "execution_count": 49,
   "metadata": {},
   "outputs": [
    {
     "name": "stdout",
     "output_type": "stream",
     "text": [
      "📊 Accuracy: 0.7715\n",
      "🎯 F1 Score (Macro): 0.7672\n",
      "🧩 Confusion Matrix:\n",
      " tensor([[545,  18,  58,  91,  28],\n",
      "        [ 24, 752,  90,  43,  29],\n",
      "        [ 26,  33, 509,  40,  39],\n",
      "        [ 67,  23, 115, 633, 129],\n",
      "        [ 16,   9,  43,  58, 866]], device='cuda:0')\n"
     ]
    }
   ],
   "source": [
    "\n",
    "val_acc_metric = Accuracy(task=\"multiclass\", num_classes=5).to(device)\n",
    "val_f1_metric = F1Score(task=\"multiclass\", num_classes=5, average=\"macro\").to(device)\n",
    "val_confmat_metric = ConfusionMatrix(task=\"multiclass\", num_classes=5).to(device)\n",
    "\n",
    "val_acc_metric.reset()\n",
    "val_f1_metric.reset()\n",
    "val_confmat_metric.reset()\n",
    "model_test.eval()\n",
    "with torch.no_grad():\n",
    "    for ids, mask, label in val_loader:\n",
    "        ids, mask, label = ids.to(device), mask.to(device), label.to(device)\n",
    "        output = model_test(ids, mask)\n",
    "\n",
    "        _, preds = torch.max(output, dim=1)\n",
    "\n",
    "        val_acc_metric.update(preds, label)\n",
    "        val_f1_metric.update(preds, label)\n",
    "        val_confmat_metric.update(preds, label)\n",
    "\n",
    "# Compute metrics\n",
    "val_acc = val_acc_metric.compute()\n",
    "val_f1 = val_f1_metric.compute()\n",
    "val_cm = val_confmat_metric.compute()\n",
    "\n",
    "print(f\"📊 Accuracy: {val_acc:.4f}\")\n",
    "print(f\"🎯 F1 Score (Macro): {val_f1:.4f}\")\n",
    "print(\"🧩 Confusion Matrix:\\n\", val_cm)"
   ]
  },
  {
   "cell_type": "markdown",
   "metadata": {},
   "source": [
    "### Confusion Matrix Plotting\n",
    "Visualizes the confusion matrix using Seaborn heatmaps to highlight model performance across categories and reveal any misclassification patterns.\n"
   ]
  },
  {
   "cell_type": "code",
   "execution_count": 52,
   "metadata": {},
   "outputs": [
    {
     "data": {
      "image/png": "[encoded data removed]",
      "text/plain": [
       "<Figure size 800x500 with 2 Axes>"
      ]
     },
     "metadata": {},
     "output_type": "display_data"
    }
   ],
   "source": [
    "# Convert to numpy if it's a torch tensor\n",
    "if isinstance(val_cm, torch.Tensor):\n",
    "    val_cm = val_cm.cpu().numpy()\n",
    "\n",
    "# Optional: Define class labels\n",
    "class_names = [\"Politics\", \"Sports\", \"Media\", \"Market & Economy\", \"STEM\"]\n",
    "\n",
    "# Set the style\n",
    "sns.set(style='whitegrid')\n",
    "\n",
    "# Plot the heatmap\n",
    "plt.figure(figsize=(8, 5))\n",
    "fig = plt.gcf()\n",
    "fig.set_facecolor(\"#212946\")\n",
    "ax = sns.heatmap(val_cm, annot=True, fmt='d', cmap='YlOrRd', linewidths=0.5,\n",
    "                 xticklabels=class_names, yticklabels=class_names)\n",
    "\n",
    "plt.title('Confusion Matrix', fontsize=19, color='white', y=1.05)\n",
    "plt.xlabel('Predicted Label', fontsize=13, color='white')\n",
    "plt.ylabel('True Label', fontsize=13, color='white')\n",
    "plt.xticks(fontsize=10, color='white')\n",
    "plt.yticks(fontsize=10, color='white')\n",
    "\n",
    "# Style colorbar\n",
    "cbar = ax.collections[0].colorbar\n",
    "cbar.ax.yaxis.set_tick_params(color='white')\n",
    "cbar.ax.tick_params(labelcolor='white')\n",
    "\n",
    "plt.tight_layout()\n",
    "plt.show()"
   ]
  },
  {
   "cell_type": "markdown",
   "metadata": {},
   "source": [
    "### Single Text Inference\n",
    "Preprocesses and tokenizes a single input text, feeds it through the trained model, and maps the predicted class index to its corresponding label using `label_map` for interpretability.\n"
   ]
  },
  {
   "cell_type": "code",
   "execution_count": 37,
   "metadata": {},
   "outputs": [
    {
     "data": {
      "text/plain": [
       "{0: 'Politics', 1: 'Sports', 2: 'Media', 3: 'Market & Economy', 4: 'STEM'}"
      ]
     },
     "execution_count": 37,
     "metadata": {},
     "output_type": "execute_result"
    }
   ],
   "source": [
    "label_map = {i: class_name for i, class_name in enumerate(lb.classes_)}\n",
    "label_map"
   ]
  },
  {
   "cell_type": "code",
   "execution_count": 38,
   "metadata": {},
   "outputs": [],
   "source": [
    "def prepare_single_input(text, tokenizer, max_len):\n",
    "    \n",
    "    processed_text = txt_preprocessing(text)\n",
    "\n",
    "    encoding = tokenizer(\n",
    "        processed_text,\n",
    "        max_length=max_len,\n",
    "        padding='max_length',\n",
    "        truncation=True,\n",
    "        return_tensors=\"pt\"\n",
    "    )\n",
    "\n",
    "    input_ids = encoding[\"input_ids\"]\n",
    "    attention_mask = encoding[\"attention_mask\"]\n",
    "\n",
    "    return input_ids, attention_mask"
   ]
  },
  {
   "cell_type": "code",
   "execution_count": null,
   "metadata": {},
   "outputs": [],
   "source": [
    "text_test = \"Managing cash flow effectively is crucial for any business, ensuring that expenses donÃ¢â,¬â„¢t exceed income.\" \n",
    "test_ids, attention_mask_test = prepare_single_input(text_test, tokenizer_roberta, 120)"
   ]
  },
  {
   "cell_type": "code",
   "execution_count": 45,
   "metadata": {},
   "outputs": [
    {
     "name": "stdout",
     "output_type": "stream",
     "text": [
      "The prediction class is:  Market & Economy\n"
     ]
    }
   ],
   "source": [
    "model_test.eval()\n",
    "test_ids, attention_mask_test = test_ids.to(device), attention_mask_test.to(device)\n",
    "with torch.no_grad():\n",
    "   output_test = model_test(test_ids, attention_mask_test)\n",
    "   _, test_pred = torch.max(output_test, dim=1)\n",
    "\n",
    "print(\"The prediction class is: \", label_map[int(test_pred.item())])"
   ]
  }
 ],
 "metadata": {
  "kernelspec": {
   "display_name": "Python 3",
   "language": "python",
   "name": "python3"
  },
  "language_info": {
   "codemirror_mode": {
    "name": "ipython",
    "version": 3
   },
   "file_extension": ".py",
   "mimetype": "text/x-python",
   "name": "python",
   "nbconvert_exporter": "python",
   "pygments_lexer": "ipython3",
   "version": "3.10.5"
  }
 },
 "nbformat": 4,
 "nbformat_minor": 2
}
